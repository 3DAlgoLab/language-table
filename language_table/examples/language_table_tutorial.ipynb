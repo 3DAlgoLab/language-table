{
  "cells": [
    {
      "cell_type": "code",
      "execution_count": null,
      "metadata": {
        "id": "ymNNiAJ3om39"
      },
      "outputs": [],
      "source": [
        "# @title Licensed under the Apache License, Version 2.0 (the \"License\");\n",
        "# you may not use this file except in compliance with the License.\n",
        "# You may obtain a copy of the License at\n",
        "#\n",
        "# https://www.apache.org/licenses/LICENSE-2.0\n",
        "#\n",
        "# Unless required by applicable law or agreed to in writing, software\n",
        "# distributed under the License is distributed on an \"AS IS\" BASIS,\n",
        "# WITHOUT WARRANTIES OR CONDITIONS OF ANY KIND, either express or implied.\n",
        "# See the License for the specific language governing permissions and\n",
        "# limitations under the License."
      ]
    },
    {
      "cell_type": "markdown",
      "metadata": {
        "id": "fcOhTl38oxR7"
      },
      "source": [
        "<table class=\"tfo-notebook-buttons\" align=\"left\">\n",
        "  <td>\n",
        "    <a href=\"https://colab.research.google.com/github/google-research/language-table/blob/main/language_table/examples/language_table_tutorial.ipynb\" target=\"_parent\"><img src=\"https://colab.research.google.com/assets/colab-badge.svg\" alt=\"Run In Google Colab\"/></a>\n",
        "  </td>\n",
        "</table>\n"
      ]
    },
    {
      "cell_type": "markdown",
      "metadata": {
        "id": "JcuNtn47ouFI"
      },
      "source": [
        "# Install Dependencies\n"
      ]
    },
    {
      "cell_type": "code",
      "execution_count": null,
      "metadata": {
        "colab": {
          "base_uri": "https://localhost:8080/",
          "height": 1000
        },
        "id": "mqUQCAech_DL",
        "outputId": "a4cbd381-d1c1-45ec-df04-421229f53bde"
      },
      "outputs": [],
      "source": [
        "# !pip install git+https://github.com/google-research/language-table.git\n",
        "!pip install mediapy\n",
        "!pip install matplotlib==3.1.3"
      ]
    },
    {
      "cell_type": "markdown",
      "metadata": {
        "id": "vyDJ-tX5pDge"
      },
      "source": [
        "# Import Modules\n"
      ]
    },
    {
      "cell_type": "code",
      "execution_count": null,
      "metadata": {
        "id": "mFSDGtBbi37S"
      },
      "outputs": [],
      "source": [
        "import os\n",
        "\n",
        "from language_table.environments import blocks\n",
        "from language_table.environments import language_table\n",
        "from language_table.environments.rewards import block2block\n",
        "\n",
        "from matplotlib import pyplot as plt\n",
        "import mediapy\n",
        "import numpy as np\n",
        "\n",
        "import tensorflow_datasets as tfds"
      ]
    },
    {
      "cell_type": "markdown",
      "metadata": {
        "id": "fpZwcBxGiqyE"
      },
      "source": [
        "# Language Table Environment\n",
        "\n",
        "The Language Table sim environment contains many different configurations for different tasks.\n",
        "\n",
        "## Block Modes\n",
        "\n",
        "- BLOCK_8: 8 blocks on the board: red moon, red pentagon, blue moon, blue cube, green cube, green star, yellow star, and yellow pentagon.\n",
        "- BLOCK_4: 4 blocks on the board: red moon, blue cube, green star, and yellow pentagon.\n",
        "- N_CHOOSE_K: Number of blocks on the board varies (total of 12 possible blocks).\n",
        "\n",
        "## Rewards\n",
        "\n",
        "| Reward                             | Description                                                |\n",
        "| ---------------------------------- | ---------------------------------------------------------- |\n",
        "| BlockToBlockReward                 | Move a block to another block.                             |\n",
        "| BlockToAbsoluteLocationReward      | Move a block to a specific absolute location on the board. |\n",
        "| BlockToRelativeLocationReward      | Move a block to a direction relative to itself.            |\n",
        "| BlockToBlockRelativeLocationReward | Move a block to the particular side of another block.      |\n",
        "| SeparateBlocksReward               | Separate 2 blocks.                                         |\n",
        "| PlayReward                         | Freeform play, no particular goal.                         |\n"
      ]
    },
    {
      "cell_type": "code",
      "execution_count": null,
      "metadata": {
        "colab": {
          "base_uri": "https://localhost:8080/"
        },
        "id": "NUtDMoCfiL13",
        "outputId": "a9e4dd01-5898-4ffe-e64d-9bc9061df7df"
      },
      "outputs": [],
      "source": [
        "def decode_inst(inst):\n",
        "    \"\"\"Utility to decode encoded language instruction\"\"\"\n",
        "    return bytes(inst[np.where(inst != 0)].tolist()).decode(\"utf-8\")\n",
        "\n",
        "\n",
        "# Create an example with the BlockToBlockReward\n",
        "reward_factory = block2block.BlockToBlockReward  # CHANGEME: change to another reward.\n",
        "\n",
        "env = language_table.LanguageTable(\n",
        "    block_mode=blocks.LanguageTableBlockVariants.BLOCK_8,\n",
        "    reward_factory=reward_factory,\n",
        "    seed=0,\n",
        ")\n",
        "obs = env.reset()"
      ]
    },
    {
      "cell_type": "markdown",
      "metadata": {
        "id": "Q_lIppmznghy"
      },
      "source": [
        "Show the RGB image and print the instruction.\n"
      ]
    },
    {
      "cell_type": "code",
      "execution_count": null,
      "metadata": {
        "colab": {
          "base_uri": "https://localhost:8080/",
          "height": 257
        },
        "id": "tAK16ok_iwuL",
        "outputId": "1f1effed-15ba-409c-9547-a14a6217080c"
      },
      "outputs": [],
      "source": [
        "plt.imshow(obs[\"rgb\"])\n",
        "print(decode_inst(obs[\"instruction\"]))"
      ]
    },
    {
      "cell_type": "markdown",
      "metadata": {
        "id": "HJa_1ITenkRR"
      },
      "source": [
        "Calling env.render() also gives you the RGB image with the text rendered above. To turn off rendering the text, pass `render_text_in_image=False` in the environment constructor.\n"
      ]
    },
    {
      "cell_type": "code",
      "execution_count": null,
      "metadata": {
        "colab": {
          "base_uri": "https://localhost:8080/",
          "height": 286
        },
        "id": "lixeviyQnjug",
        "outputId": "c31d3307-dc2e-4c44-b5f3-e20b2ca7f18c"
      },
      "outputs": [],
      "source": [
        "plt.imshow(env.render())"
      ]
    },
    {
      "cell_type": "markdown",
      "metadata": {
        "id": "vjqwGckf097T"
      },
      "source": [
        "Simple example of stepping the environment.\n"
      ]
    },
    {
      "cell_type": "code",
      "execution_count": null,
      "metadata": {
        "colab": {
          "base_uri": "https://localhost:8080/",
          "height": 302
        },
        "id": "TYz4YMJQ0tBp",
        "outputId": "32ece946-1b9d-4bcb-cb09-04dddd6c0fed"
      },
      "outputs": [],
      "source": [
        "for _ in range(3):\n",
        "    env.reset()\n",
        "    fig, axes = plt.subplots(1, 5, figsize=(15, 5))\n",
        "    for ax in axes:\n",
        "        obs, _, _, _ = env.step(np.array([0.1, 0]))\n",
        "        ax.set_axis_off()\n",
        "        ax.imshow(obs[\"rgb\"])\n",
        "    plt.show()"
      ]
    },
    {
      "cell_type": "markdown",
      "metadata": {
        "id": "FxrD8kCOnnlK"
      },
      "source": [
        "# Language Table Datasets\n",
        "\n",
        "See [full details]((https://github.com/google-research/language-table#datasets) on the variants of Language Table Datasets here.\n",
        "\n",
        "Here is a quick overview:\n",
        "\n",
        "| Dataset                                        | Real/sim | Controlled by | Language-labeled by | # episodes |\n",
        "| ---------------------------------------------- | -------- | ------------- | ------------------- | ---------: |\n",
        "| language_table                                 | real     | human         | human               |    442,226 |\n",
        "| language_table_sim                             | sim      | human         | human               |    181,020 |\n",
        "| language_table_blocktoblock_sim                | sim      | human         | scripted            |      8,000 |\n",
        "| language_table_blocktoblock_4block_sim         | sim      | human         | scripted            |      8,298 |\n",
        "| language_table_blocktoblock_oracle_sim         | sim      | oracle        | scripted            |    200,000 |\n",
        "| language_table_blocktoblockrelative_oracle_sim | sim      | oracle        | scripted            |    200,000 |\n",
        "| language_table_blocktoabsolute_oracle_sim      | sim      | oracle        | scripted            |    200,000 |\n",
        "| language_table_blocktorelative_oracle_sim      | sim      | oracle        | scripted            |    200,000 |\n",
        "| language_table_separate_oracle_sim             | sim      | oracle        | scripted            |    200,000 |\n",
        "\n",
        "See the [RLDS Tutorial](https://colab.research.google.com/github/google-research/rlds/blob/main/rlds/examples/rlds_tutorial.ipynb) for more details on the RLDS data format.\n"
      ]
    },
    {
      "cell_type": "code",
      "execution_count": null,
      "metadata": {
        "id": "CdxhZgCKnpCA"
      },
      "outputs": [],
      "source": [
        "DATASET_VERSION = \"0.0.1\"\n",
        "DATASET_NAME = \"language_table\"  # CHANGEME: change this to load another dataset.\n",
        "\n",
        "dataset_directories = {\n",
        "    \"language_table\": \"gs://gresearch/robotics/language_table\",\n",
        "    \"language_table_sim\": \"gs://gresearch/robotics/language_table_sim\",\n",
        "    \"language_table_blocktoblock_sim\": \"gs://gresearch/robotics/language_table_blocktoblock_sim\",\n",
        "    \"language_table_blocktoblock_4block_sim\": \"gs://gresearch/robotics/language_table_blocktoblock_4block_sim\",\n",
        "    \"language_table_blocktoblock_oracle_sim\": \"gs://gresearch/robotics/language_table_blocktoblock_oracle_sim\",\n",
        "    \"language_table_blocktoblockrelative_oracle_sim\": \"gs://gresearch/robotics/language_table_blocktoblockrelative_oracle_sim\",\n",
        "    \"language_table_blocktoabsolute_oracle_sim\": \"gs://gresearch/robotics/language_table_blocktoabsolute_oracle_sim\",\n",
        "    \"language_table_blocktorelative_oracle_sim\": \"gs://gresearch/robotics/language_table_blocktorelative_oracle_sim\",\n",
        "    \"language_table_separate_oracle_sim\": \"gs://gresearch/robotics/language_table_separate_oracle_sim\",\n",
        "}"
      ]
    },
    {
      "cell_type": "code",
      "execution_count": null,
      "metadata": {
        "colab": {
          "base_uri": "https://localhost:8080/"
        },
        "id": "4XUJ7DBMnrhF",
        "outputId": "26c96c29-3f00-4b14-86aa-df871d776f0c"
      },
      "outputs": [],
      "source": [
        "dataset_path = os.path.join(dataset_directories[DATASET_NAME], DATASET_VERSION)\n",
        "builder = tfds.builder_from_directory(dataset_path)\n",
        "episode_ds = builder.as_dataset(split=\"train\")\n",
        "\n",
        "print(episode_ds.element_spec)"
      ]
    },
    {
      "cell_type": "markdown",
      "metadata": {
        "id": "SunCEn2jnvHJ"
      },
      "source": [
        "## Loading Episodes\n",
        "\n",
        "Take the first episode in the dataset, and make a video from the frames\n"
      ]
    },
    {
      "cell_type": "code",
      "execution_count": 11,
      "metadata": {
        "colab": {
          "base_uri": "https://localhost:8080/",
          "height": 401
        },
        "id": "dPMbRNTynvbR",
        "outputId": "7614d12c-6885-40e0-f771-c497e08417ae"
      },
      "outputs": [
        {
          "name": "stderr",
          "output_type": "stream",
          "text": [
            "2024-05-10 13:41:02.855866: W tensorflow/core/framework/local_rendezvous.cc:404] Local rendezvous is aborting with status: OUT_OF_RANGE: End of sequence\n"
          ]
        },
        {
          "ename": "RuntimeError",
          "evalue": "Program 'ffmpeg' is not found; perhaps install ffmpeg using 'apt install ffmpeg'.",
          "output_type": "error",
          "traceback": [
            "\u001b[0;31m---------------------------------------------------------------------------\u001b[0m",
            "\u001b[0;31mRuntimeError\u001b[0m                              Traceback (most recent call last)",
            "Cell \u001b[0;32mIn[11], line 7\u001b[0m\n\u001b[1;32m      4\u001b[0m \u001b[38;5;28;01mfor\u001b[39;00m step \u001b[38;5;129;01min\u001b[39;00m episode[\u001b[38;5;124m\"\u001b[39m\u001b[38;5;124msteps\u001b[39m\u001b[38;5;124m\"\u001b[39m]\u001b[38;5;241m.\u001b[39mas_numpy_iterator():\n\u001b[1;32m      5\u001b[0m     frames\u001b[38;5;241m.\u001b[39mappend(step[\u001b[38;5;124m\"\u001b[39m\u001b[38;5;124mobservation\u001b[39m\u001b[38;5;124m\"\u001b[39m][\u001b[38;5;124m\"\u001b[39m\u001b[38;5;124mrgb\u001b[39m\u001b[38;5;124m\"\u001b[39m])\n\u001b[0;32m----> 7\u001b[0m \u001b[43mmediapy\u001b[49m\u001b[38;5;241;43m.\u001b[39;49m\u001b[43mshow_video\u001b[49m\u001b[43m(\u001b[49m\u001b[43mframes\u001b[49m\u001b[43m,\u001b[49m\u001b[43m \u001b[49m\u001b[43mtitle\u001b[49m\u001b[38;5;241;43m=\u001b[39;49m\u001b[43mdecode_inst\u001b[49m\u001b[43m(\u001b[49m\u001b[43mstep\u001b[49m\u001b[43m[\u001b[49m\u001b[38;5;124;43m\"\u001b[39;49m\u001b[38;5;124;43mobservation\u001b[39;49m\u001b[38;5;124;43m\"\u001b[39;49m\u001b[43m]\u001b[49m\u001b[43m[\u001b[49m\u001b[38;5;124;43m\"\u001b[39;49m\u001b[38;5;124;43minstruction\u001b[39;49m\u001b[38;5;124;43m\"\u001b[39;49m\u001b[43m]\u001b[49m\u001b[43m)\u001b[49m\u001b[43m,\u001b[49m\u001b[43m \u001b[49m\u001b[43mfps\u001b[49m\u001b[38;5;241;43m=\u001b[39;49m\u001b[38;5;241;43m5\u001b[39;49m\u001b[43m)\u001b[49m\n",
            "File \u001b[0;32m/dev_repo/benchmarks/language-table/venv/lib/python3.10/site-packages/mediapy/__init__.py:1858\u001b[0m, in \u001b[0;36mshow_video\u001b[0;34m(images, title, **kwargs)\u001b[0m\n\u001b[1;32m   1835\u001b[0m \u001b[38;5;28;01mdef\u001b[39;00m \u001b[38;5;21mshow_video\u001b[39m(\n\u001b[1;32m   1836\u001b[0m     images: Iterable[_NDArray], \u001b[38;5;241m*\u001b[39m, title: \u001b[38;5;28mstr\u001b[39m \u001b[38;5;241m|\u001b[39m \u001b[38;5;28;01mNone\u001b[39;00m \u001b[38;5;241m=\u001b[39m \u001b[38;5;28;01mNone\u001b[39;00m, \u001b[38;5;241m*\u001b[39m\u001b[38;5;241m*\u001b[39mkwargs: Any\n\u001b[1;32m   1837\u001b[0m ) \u001b[38;5;241m-\u001b[39m\u001b[38;5;241m>\u001b[39m \u001b[38;5;28mstr\u001b[39m \u001b[38;5;241m|\u001b[39m \u001b[38;5;28;01mNone\u001b[39;00m:\n\u001b[1;32m   1838\u001b[0m \u001b[38;5;250m  \u001b[39m\u001b[38;5;124;03m\"\"\"Displays a video in the IPython notebook and optionally saves it to a file.\u001b[39;00m\n\u001b[1;32m   1839\u001b[0m \n\u001b[1;32m   1840\u001b[0m \u001b[38;5;124;03m  See `show_videos`.\u001b[39;00m\n\u001b[0;32m   (...)\u001b[0m\n\u001b[1;32m   1856\u001b[0m \u001b[38;5;124;03m    html string if `return_html` is `True`.\u001b[39;00m\n\u001b[1;32m   1857\u001b[0m \u001b[38;5;124;03m  \"\"\"\u001b[39;00m\n\u001b[0;32m-> 1858\u001b[0m   \u001b[38;5;28;01mreturn\u001b[39;00m \u001b[43mshow_videos\u001b[49m\u001b[43m(\u001b[49m\u001b[43m[\u001b[49m\u001b[43mimages\u001b[49m\u001b[43m]\u001b[49m\u001b[43m,\u001b[49m\u001b[43m \u001b[49m\u001b[43m[\u001b[49m\u001b[43mtitle\u001b[49m\u001b[43m]\u001b[49m\u001b[43m,\u001b[49m\u001b[43m \u001b[49m\u001b[38;5;241;43m*\u001b[39;49m\u001b[38;5;241;43m*\u001b[39;49m\u001b[43mkwargs\u001b[49m\u001b[43m)\u001b[49m\n",
            "File \u001b[0;32m/dev_repo/benchmarks/language-table/venv/lib/python3.10/site-packages/mediapy/__init__.py:1940\u001b[0m, in \u001b[0;36mshow_videos\u001b[0;34m(videos, titles, width, height, downsample, columns, fps, bps, qp, codec, ylabel, html_class, return_html, **kwargs)\u001b[0m\n\u001b[1;32m   1938\u001b[0m   video \u001b[38;5;241m=\u001b[39m [resize_image(image, (h, w)) \u001b[38;5;28;01mfor\u001b[39;00m image \u001b[38;5;129;01min\u001b[39;00m video]\n\u001b[1;32m   1939\u001b[0m   first_image \u001b[38;5;241m=\u001b[39m video[\u001b[38;5;241m0\u001b[39m]\n\u001b[0;32m-> 1940\u001b[0m data \u001b[38;5;241m=\u001b[39m \u001b[43mcompress_video\u001b[49m\u001b[43m(\u001b[49m\n\u001b[1;32m   1941\u001b[0m \u001b[43m    \u001b[49m\u001b[43mvideo\u001b[49m\u001b[43m,\u001b[49m\u001b[43m \u001b[49m\u001b[43mmetadata\u001b[49m\u001b[38;5;241;43m=\u001b[39;49m\u001b[43mmetadata\u001b[49m\u001b[43m,\u001b[49m\u001b[43m \u001b[49m\u001b[43mfps\u001b[49m\u001b[38;5;241;43m=\u001b[39;49m\u001b[43mfps\u001b[49m\u001b[43m,\u001b[49m\u001b[43m \u001b[49m\u001b[43mbps\u001b[49m\u001b[38;5;241;43m=\u001b[39;49m\u001b[43mbps\u001b[49m\u001b[43m,\u001b[49m\u001b[43m \u001b[49m\u001b[43mqp\u001b[49m\u001b[38;5;241;43m=\u001b[39;49m\u001b[43mqp\u001b[49m\u001b[43m,\u001b[49m\u001b[43m \u001b[49m\u001b[43mcodec\u001b[49m\u001b[38;5;241;43m=\u001b[39;49m\u001b[43mcodec\u001b[49m\n\u001b[1;32m   1942\u001b[0m \u001b[43m\u001b[49m\u001b[43m)\u001b[49m\n\u001b[1;32m   1943\u001b[0m \u001b[38;5;28;01mif\u001b[39;00m title \u001b[38;5;129;01mis\u001b[39;00m \u001b[38;5;129;01mnot\u001b[39;00m \u001b[38;5;28;01mNone\u001b[39;00m \u001b[38;5;129;01mand\u001b[39;00m _config\u001b[38;5;241m.\u001b[39mshow_save_dir:\n\u001b[1;32m   1944\u001b[0m   suffix \u001b[38;5;241m=\u001b[39m _filename_suffix_from_codec(codec)\n",
            "File \u001b[0;32m/dev_repo/benchmarks/language-table/venv/lib/python3.10/site-packages/mediapy/__init__.py:1777\u001b[0m, in \u001b[0;36mcompress_video\u001b[0;34m(images, codec, **kwargs)\u001b[0m\n\u001b[1;32m   1775\u001b[0m \u001b[38;5;28;01mwith\u001b[39;00m tempfile\u001b[38;5;241m.\u001b[39mTemporaryDirectory() \u001b[38;5;28;01mas\u001b[39;00m directory_name:\n\u001b[1;32m   1776\u001b[0m   tmp_path \u001b[38;5;241m=\u001b[39m pathlib\u001b[38;5;241m.\u001b[39mPath(directory_name) \u001b[38;5;241m/\u001b[39m \u001b[38;5;124mf\u001b[39m\u001b[38;5;124m'\u001b[39m\u001b[38;5;124mfile\u001b[39m\u001b[38;5;132;01m{\u001b[39;00msuffix\u001b[38;5;132;01m}\u001b[39;00m\u001b[38;5;124m'\u001b[39m\n\u001b[0;32m-> 1777\u001b[0m   \u001b[43mwrite_video\u001b[49m\u001b[43m(\u001b[49m\u001b[43mtmp_path\u001b[49m\u001b[43m,\u001b[49m\u001b[43m \u001b[49m\u001b[43mimages\u001b[49m\u001b[43m,\u001b[49m\u001b[43m \u001b[49m\u001b[43mcodec\u001b[49m\u001b[38;5;241;43m=\u001b[39;49m\u001b[43mcodec\u001b[49m\u001b[43m,\u001b[49m\u001b[43m \u001b[49m\u001b[38;5;241;43m*\u001b[39;49m\u001b[38;5;241;43m*\u001b[39;49m\u001b[43mkwargs\u001b[49m\u001b[43m)\u001b[49m\n\u001b[1;32m   1778\u001b[0m   \u001b[38;5;28;01mreturn\u001b[39;00m tmp_path\u001b[38;5;241m.\u001b[39mread_bytes()\n",
            "File \u001b[0;32m/dev_repo/benchmarks/language-table/venv/lib/python3.10/site-packages/mediapy/__init__.py:1747\u001b[0m, in \u001b[0;36mwrite_video\u001b[0;34m(path, images, **kwargs)\u001b[0m\n\u001b[1;32m   1745\u001b[0m   dtype \u001b[38;5;241m=\u001b[39m np\u001b[38;5;241m.\u001b[39mdtype(np\u001b[38;5;241m.\u001b[39muint16)\n\u001b[1;32m   1746\u001b[0m kwargs \u001b[38;5;241m=\u001b[39m {\u001b[38;5;124m'\u001b[39m\u001b[38;5;124mmetadata\u001b[39m\u001b[38;5;124m'\u001b[39m: \u001b[38;5;28mgetattr\u001b[39m(images, \u001b[38;5;124m'\u001b[39m\u001b[38;5;124mmetadata\u001b[39m\u001b[38;5;124m'\u001b[39m, \u001b[38;5;28;01mNone\u001b[39;00m), \u001b[38;5;241m*\u001b[39m\u001b[38;5;241m*\u001b[39mkwargs}\n\u001b[0;32m-> 1747\u001b[0m \u001b[38;5;28;01mwith\u001b[39;00m VideoWriter(path, shape\u001b[38;5;241m=\u001b[39mshape, dtype\u001b[38;5;241m=\u001b[39mdtype, \u001b[38;5;241m*\u001b[39m\u001b[38;5;241m*\u001b[39mkwargs) \u001b[38;5;28;01mas\u001b[39;00m writer:\n\u001b[1;32m   1748\u001b[0m   \u001b[38;5;28;01mfor\u001b[39;00m image \u001b[38;5;129;01min\u001b[39;00m images:\n\u001b[1;32m   1749\u001b[0m     writer\u001b[38;5;241m.\u001b[39madd_image(image)\n",
            "File \u001b[0;32m/dev_repo/benchmarks/language-table/venv/lib/python3.10/site-packages/mediapy/__init__.py:1567\u001b[0m, in \u001b[0;36mVideoWriter.__enter__\u001b[0;34m(self)\u001b[0m\n\u001b[1;32m   1566\u001b[0m \u001b[38;5;28;01mdef\u001b[39;00m \u001b[38;5;21m__enter__\u001b[39m(\u001b[38;5;28mself\u001b[39m) \u001b[38;5;241m-\u001b[39m\u001b[38;5;241m>\u001b[39m \u001b[38;5;124m'\u001b[39m\u001b[38;5;124mVideoWriter\u001b[39m\u001b[38;5;124m'\u001b[39m:\n\u001b[0;32m-> 1567\u001b[0m   ffmpeg_path \u001b[38;5;241m=\u001b[39m \u001b[43m_get_ffmpeg_path\u001b[49m\u001b[43m(\u001b[49m\u001b[43m)\u001b[49m\n\u001b[1;32m   1568\u001b[0m   input_pix_fmt \u001b[38;5;241m=\u001b[39m \u001b[38;5;28mself\u001b[39m\u001b[38;5;241m.\u001b[39m_get_pix_fmt(\u001b[38;5;28mself\u001b[39m\u001b[38;5;241m.\u001b[39mdtype, \u001b[38;5;28mself\u001b[39m\u001b[38;5;241m.\u001b[39minput_format)\n\u001b[1;32m   1569\u001b[0m   \u001b[38;5;28;01mtry\u001b[39;00m:\n",
            "File \u001b[0;32m/dev_repo/benchmarks/language-table/venv/lib/python3.10/site-packages/mediapy/__init__.py:1167\u001b[0m, in \u001b[0;36m_get_ffmpeg_path\u001b[0;34m()\u001b[0m\n\u001b[1;32m   1165\u001b[0m path \u001b[38;5;241m=\u001b[39m _search_for_ffmpeg_path()\n\u001b[1;32m   1166\u001b[0m \u001b[38;5;28;01mif\u001b[39;00m \u001b[38;5;129;01mnot\u001b[39;00m path:\n\u001b[0;32m-> 1167\u001b[0m   \u001b[38;5;28;01mraise\u001b[39;00m \u001b[38;5;167;01mRuntimeError\u001b[39;00m(\n\u001b[1;32m   1168\u001b[0m       \u001b[38;5;124mf\u001b[39m\u001b[38;5;124m\"\u001b[39m\u001b[38;5;124mProgram \u001b[39m\u001b[38;5;124m'\u001b[39m\u001b[38;5;132;01m{\u001b[39;00m_config\u001b[38;5;241m.\u001b[39mffmpeg_name_or_path\u001b[38;5;132;01m}\u001b[39;00m\u001b[38;5;124m'\u001b[39m\u001b[38;5;124m is not found;\u001b[39m\u001b[38;5;124m\"\u001b[39m\n\u001b[1;32m   1169\u001b[0m       \u001b[38;5;124m\"\u001b[39m\u001b[38;5;124m perhaps install ffmpeg using \u001b[39m\u001b[38;5;124m'\u001b[39m\u001b[38;5;124mapt install ffmpeg\u001b[39m\u001b[38;5;124m'\u001b[39m\u001b[38;5;124m.\u001b[39m\u001b[38;5;124m\"\u001b[39m\n\u001b[1;32m   1170\u001b[0m   )\n\u001b[1;32m   1171\u001b[0m \u001b[38;5;28;01mreturn\u001b[39;00m path\n",
            "\u001b[0;31mRuntimeError\u001b[0m: Program 'ffmpeg' is not found; perhaps install ffmpeg using 'apt install ffmpeg'."
          ]
        }
      ],
      "source": [
        "episode = next(iter(episode_ds.take(1)))\n",
        "\n",
        "frames = []\n",
        "for step in episode[\"steps\"].as_numpy_iterator():\n",
        "    frames.append(step[\"observation\"][\"rgb\"])\n",
        "\n",
        "mediapy.show_video(frames, title=decode_inst(step[\"observation\"][\"instruction\"]), fps=5)"
      ]
    },
    {
      "cell_type": "markdown",
      "metadata": {
        "id": "_v8Hy2Qhnxod"
      },
      "source": [
        "## Loading Steps\n",
        "\n",
        "Take the first 100 steps of the dataset, and make a combined video of the frames\n"
      ]
    },
    {
      "cell_type": "code",
      "execution_count": null,
      "metadata": {
        "colab": {
          "base_uri": "https://localhost:8080/",
          "height": 455
        },
        "id": "n0QPYbTBnyh_",
        "outputId": "9e06a87c-f2e8-4498-d49b-265a5afd9c04"
      },
      "outputs": [],
      "source": [
        "steps_ds = episode_ds.flat_map(\n",
        "    lambda x: x[\"steps\"]\n",
        ")  # get the dataset as individual steps\n",
        "\n",
        "# Make the first 100 steps of the dataset into a video.\n",
        "frames = []\n",
        "for step in steps_ds.take(100).as_numpy_iterator():\n",
        "    frames.append(step[\"observation\"][\"rgb\"])\n",
        "\n",
        "mediapy.show_video(frames, fps=5)"
      ]
    },
    {
      "cell_type": "code",
      "execution_count": null,
      "metadata": {
        "id": "dJzmaKptogDC"
      },
      "outputs": [],
      "source": []
    }
  ],
  "metadata": {
    "colab": {
      "provenance": [],
      "toc_visible": true
    },
    "kernelspec": {
      "display_name": "Python 3",
      "name": "python3"
    },
    "language_info": {
      "codemirror_mode": {
        "name": "ipython",
        "version": 3
      },
      "file_extension": ".py",
      "mimetype": "text/x-python",
      "name": "python",
      "nbconvert_exporter": "python",
      "pygments_lexer": "ipython3",
      "version": "3.10.14"
    }
  },
  "nbformat": 4,
  "nbformat_minor": 0
}
